{
  "nbformat": 4,
  "nbformat_minor": 0,
  "metadata": {
    "colab": {
      "provenance": [],
      "include_colab_link": true
    },
    "kernelspec": {
      "name": "python3",
      "display_name": "Python 3"
    },
    "language_info": {
      "name": "python"
    }
  },
  "cells": [
    {
      "cell_type": "markdown",
      "metadata": {
        "id": "view-in-github",
        "colab_type": "text"
      },
      "source": [
        "<a href=\"https://colab.research.google.com/github/Nikarashi/Forecasting-a-Time-Series-of-Real-Estate-Prices/blob/main/baseline.ipynb\" target=\"_parent\"><img src=\"https://colab.research.google.com/assets/colab-badge.svg\" alt=\"Open In Colab\"/></a>"
      ]
    },
    {
      "cell_type": "code",
      "execution_count": null,
      "metadata": {
        "id": "x2CvC4-Ai1Ci"
      },
      "outputs": [],
      "source": [
        "try:\n",
        "    from catboost import CatBoostRegressor\n",
        "    from clearml import Task, Logger, Dataset\n",
        "except Exception:\n",
        "    !pip install catboost\n",
        "    !pip install clearml\n",
        "\n",
        "import joblib\n",
        "import pandas as pd\n",
        "import numpy as np\n",
        "import seaborn as sns\n",
        "import matplotlib.pyplot as plt\n",
        "from datetime import timedelta\n",
        "import re\n",
        "from sklearn.model_selection import train_test_split\n",
        "from sklearn import tree\n",
        "from sklearn.ensemble import RandomForestRegressor\n",
        "from sklearn.metrics import root_mean_squared_error\n",
        "from sklearn.metrics import mean_absolute_error\n",
        "from sklearn.metrics import mean_absolute_percentage_error"
      ]
    },
    {
      "cell_type": "code",
      "source": [
        "data = pd.read_excel('/content/Средняя_цена_1_кв_м_общей_площади_квартир_на_рынке_жилья.xls', skiprows=3)"
      ],
      "metadata": {
        "id": "JQp-Uv38i8VJ"
      },
      "execution_count": null,
      "outputs": []
    },
    {
      "cell_type": "code",
      "source": [
        "data"
      ],
      "metadata": {
        "colab": {
          "base_uri": "https://localhost:8080/",
          "height": 843
        },
        "id": "_K-8uWbUjqkT",
        "outputId": "05339a5a-c264-4c8d-c442-e7f579a73e0f"
      },
      "execution_count": null,
      "outputs": [
        {
          "output_type": "execute_result",
          "data": {
            "text/plain": [
              "                Unnamed: 0                Unnamed: 1  \\\n",
              "0    Вторичный рынок жилья      Российская Федерация   \n",
              "1    Вторичный рынок жилья      Российская Федерация   \n",
              "2    Вторичный рынок жилья      Российская Федерация   \n",
              "3    Вторичный рынок жилья      Российская Федерация   \n",
              "4    Вторичный рынок жилья      Российская Федерация   \n",
              "..                     ...                       ...   \n",
              "987  Первичный рынок жилья  Восточно-Сибирский район   \n",
              "988  Первичный рынок жилья     Дальневосточный район   \n",
              "989  Первичный рынок жилья     Дальневосточный район   \n",
              "990  Первичный рынок жилья     Дальневосточный район   \n",
              "991  Первичный рынок жилья     Дальневосточный район   \n",
              "\n",
              "                               Unnamed: 2  I квартал  II квартал  III квартал  \\\n",
              "0                        Все типы квартир    5910.45     5955.02      6103.58   \n",
              "1    Квартиры среднего качества (типовые)    5710.34     5791.35      5929.36   \n",
              "2                        Низкого качества    4942.25     4930.57      5079.02   \n",
              "3                    Улучшенного качества    6712.89     6704.89      6877.55   \n",
              "4                        Элитные квартиры   11422.90    11393.16     11606.28   \n",
              "..                                    ...        ...         ...          ...   \n",
              "987                      Элитные квартиры    7048.55     7060.77      7307.24   \n",
              "988                      Все типы квартир    7203.56     7392.97      7434.40   \n",
              "989  Квартиры среднего качества (типовые)    5653.88     5653.88      6000.00   \n",
              "990                  Улучшенного качества    6913.49     7036.90      6954.79   \n",
              "991                      Элитные квартиры    8508.25     8713.46      9195.18   \n",
              "\n",
              "     IV квартал  I квартал.1  II квартал.1  III квартал.1  ...  IV квартал.21  \\\n",
              "0       6590.17      7300.88       7723.86        8291.11  ...       76686.26   \n",
              "1       6421.56      6943.38       7391.32        7957.78  ...       70513.74   \n",
              "2       5482.66      6121.54       6357.71        6684.85  ...       61353.55   \n",
              "3       7422.19      8065.37       8480.71        9134.58  ...       83011.86   \n",
              "4      12009.49     13636.33      14192.89       14671.29  ...      118912.23   \n",
              "..          ...          ...           ...            ...  ...            ...   \n",
              "987     9560.06      9829.22      11753.79       12758.47  ...            NaN   \n",
              "988     7987.61     10614.19      11180.25       11995.19  ...            NaN   \n",
              "989     6299.25      6591.40       6991.40        6991.40  ...            NaN   \n",
              "990     7457.41      9789.78      10418.40       11766.38  ...            NaN   \n",
              "991    10468.67     12655.78      13298.65       13456.34  ...            NaN   \n",
              "\n",
              "     I квартал.22  II квартал.22  III квартал.22  IV квартал.22  I квартал.23  \\\n",
              "0        89867.64       91637.43        92892.27       94362.82      90891.50   \n",
              "1        83236.73       83985.15        85155.79       86770.32      85532.32   \n",
              "2        71741.33       73576.96        72096.70       72265.28      72572.55   \n",
              "3        97482.92       99908.63       101459.09      102928.68     100502.50   \n",
              "4       146663.64      157717.52       161595.15      162842.36     133657.26   \n",
              "..            ...            ...             ...            ...           ...   \n",
              "987           NaN            NaN             NaN            NaN           NaN   \n",
              "988           NaN            NaN             NaN            NaN           NaN   \n",
              "989           NaN            NaN             NaN            NaN           NaN   \n",
              "990           NaN            NaN             NaN            NaN           NaN   \n",
              "991           NaN            NaN             NaN            NaN           NaN   \n",
              "\n",
              "     II квартал.23  III квартал.23  IV квартал.23  I квартал.24  \n",
              "0         92363.00        94526.47       97418.39     108127.06  \n",
              "1         87084.49        88734.00       91593.07      98296.29  \n",
              "2         74282.35        76135.63       77719.26      84074.07  \n",
              "3        101951.86       105024.44      108246.66     117948.54  \n",
              "4        132641.54       135485.26      137342.62     212078.15  \n",
              "..             ...             ...            ...           ...  \n",
              "987            NaN             NaN            NaN           NaN  \n",
              "988            NaN             NaN            NaN           NaN  \n",
              "989            NaN             NaN            NaN           NaN  \n",
              "990            NaN             NaN            NaN           NaN  \n",
              "991            NaN             NaN            NaN           NaN  \n",
              "\n",
              "[992 rows x 100 columns]"
            ],
            "text/html": [
              "\n",
              "  <div id=\"df-f689f6f2-29da-4deb-9596-7298221cea68\" class=\"colab-df-container\">\n",
              "    <div>\n",
              "<style scoped>\n",
              "    .dataframe tbody tr th:only-of-type {\n",
              "        vertical-align: middle;\n",
              "    }\n",
              "\n",
              "    .dataframe tbody tr th {\n",
              "        vertical-align: top;\n",
              "    }\n",
              "\n",
              "    .dataframe thead th {\n",
              "        text-align: right;\n",
              "    }\n",
              "</style>\n",
              "<table border=\"1\" class=\"dataframe\">\n",
              "  <thead>\n",
              "    <tr style=\"text-align: right;\">\n",
              "      <th></th>\n",
              "      <th>Unnamed: 0</th>\n",
              "      <th>Unnamed: 1</th>\n",
              "      <th>Unnamed: 2</th>\n",
              "      <th>I квартал</th>\n",
              "      <th>II квартал</th>\n",
              "      <th>III квартал</th>\n",
              "      <th>IV квартал</th>\n",
              "      <th>I квартал.1</th>\n",
              "      <th>II квартал.1</th>\n",
              "      <th>III квартал.1</th>\n",
              "      <th>...</th>\n",
              "      <th>IV квартал.21</th>\n",
              "      <th>I квартал.22</th>\n",
              "      <th>II квартал.22</th>\n",
              "      <th>III квартал.22</th>\n",
              "      <th>IV квартал.22</th>\n",
              "      <th>I квартал.23</th>\n",
              "      <th>II квартал.23</th>\n",
              "      <th>III квартал.23</th>\n",
              "      <th>IV квартал.23</th>\n",
              "      <th>I квартал.24</th>\n",
              "    </tr>\n",
              "  </thead>\n",
              "  <tbody>\n",
              "    <tr>\n",
              "      <th>0</th>\n",
              "      <td>Вторичный рынок жилья</td>\n",
              "      <td>Российская Федерация</td>\n",
              "      <td>Все типы квартир</td>\n",
              "      <td>5910.45</td>\n",
              "      <td>5955.02</td>\n",
              "      <td>6103.58</td>\n",
              "      <td>6590.17</td>\n",
              "      <td>7300.88</td>\n",
              "      <td>7723.86</td>\n",
              "      <td>8291.11</td>\n",
              "      <td>...</td>\n",
              "      <td>76686.26</td>\n",
              "      <td>89867.64</td>\n",
              "      <td>91637.43</td>\n",
              "      <td>92892.27</td>\n",
              "      <td>94362.82</td>\n",
              "      <td>90891.50</td>\n",
              "      <td>92363.00</td>\n",
              "      <td>94526.47</td>\n",
              "      <td>97418.39</td>\n",
              "      <td>108127.06</td>\n",
              "    </tr>\n",
              "    <tr>\n",
              "      <th>1</th>\n",
              "      <td>Вторичный рынок жилья</td>\n",
              "      <td>Российская Федерация</td>\n",
              "      <td>Квартиры среднего качества (типовые)</td>\n",
              "      <td>5710.34</td>\n",
              "      <td>5791.35</td>\n",
              "      <td>5929.36</td>\n",
              "      <td>6421.56</td>\n",
              "      <td>6943.38</td>\n",
              "      <td>7391.32</td>\n",
              "      <td>7957.78</td>\n",
              "      <td>...</td>\n",
              "      <td>70513.74</td>\n",
              "      <td>83236.73</td>\n",
              "      <td>83985.15</td>\n",
              "      <td>85155.79</td>\n",
              "      <td>86770.32</td>\n",
              "      <td>85532.32</td>\n",
              "      <td>87084.49</td>\n",
              "      <td>88734.00</td>\n",
              "      <td>91593.07</td>\n",
              "      <td>98296.29</td>\n",
              "    </tr>\n",
              "    <tr>\n",
              "      <th>2</th>\n",
              "      <td>Вторичный рынок жилья</td>\n",
              "      <td>Российская Федерация</td>\n",
              "      <td>Низкого качества</td>\n",
              "      <td>4942.25</td>\n",
              "      <td>4930.57</td>\n",
              "      <td>5079.02</td>\n",
              "      <td>5482.66</td>\n",
              "      <td>6121.54</td>\n",
              "      <td>6357.71</td>\n",
              "      <td>6684.85</td>\n",
              "      <td>...</td>\n",
              "      <td>61353.55</td>\n",
              "      <td>71741.33</td>\n",
              "      <td>73576.96</td>\n",
              "      <td>72096.70</td>\n",
              "      <td>72265.28</td>\n",
              "      <td>72572.55</td>\n",
              "      <td>74282.35</td>\n",
              "      <td>76135.63</td>\n",
              "      <td>77719.26</td>\n",
              "      <td>84074.07</td>\n",
              "    </tr>\n",
              "    <tr>\n",
              "      <th>3</th>\n",
              "      <td>Вторичный рынок жилья</td>\n",
              "      <td>Российская Федерация</td>\n",
              "      <td>Улучшенного качества</td>\n",
              "      <td>6712.89</td>\n",
              "      <td>6704.89</td>\n",
              "      <td>6877.55</td>\n",
              "      <td>7422.19</td>\n",
              "      <td>8065.37</td>\n",
              "      <td>8480.71</td>\n",
              "      <td>9134.58</td>\n",
              "      <td>...</td>\n",
              "      <td>83011.86</td>\n",
              "      <td>97482.92</td>\n",
              "      <td>99908.63</td>\n",
              "      <td>101459.09</td>\n",
              "      <td>102928.68</td>\n",
              "      <td>100502.50</td>\n",
              "      <td>101951.86</td>\n",
              "      <td>105024.44</td>\n",
              "      <td>108246.66</td>\n",
              "      <td>117948.54</td>\n",
              "    </tr>\n",
              "    <tr>\n",
              "      <th>4</th>\n",
              "      <td>Вторичный рынок жилья</td>\n",
              "      <td>Российская Федерация</td>\n",
              "      <td>Элитные квартиры</td>\n",
              "      <td>11422.90</td>\n",
              "      <td>11393.16</td>\n",
              "      <td>11606.28</td>\n",
              "      <td>12009.49</td>\n",
              "      <td>13636.33</td>\n",
              "      <td>14192.89</td>\n",
              "      <td>14671.29</td>\n",
              "      <td>...</td>\n",
              "      <td>118912.23</td>\n",
              "      <td>146663.64</td>\n",
              "      <td>157717.52</td>\n",
              "      <td>161595.15</td>\n",
              "      <td>162842.36</td>\n",
              "      <td>133657.26</td>\n",
              "      <td>132641.54</td>\n",
              "      <td>135485.26</td>\n",
              "      <td>137342.62</td>\n",
              "      <td>212078.15</td>\n",
              "    </tr>\n",
              "    <tr>\n",
              "      <th>...</th>\n",
              "      <td>...</td>\n",
              "      <td>...</td>\n",
              "      <td>...</td>\n",
              "      <td>...</td>\n",
              "      <td>...</td>\n",
              "      <td>...</td>\n",
              "      <td>...</td>\n",
              "      <td>...</td>\n",
              "      <td>...</td>\n",
              "      <td>...</td>\n",
              "      <td>...</td>\n",
              "      <td>...</td>\n",
              "      <td>...</td>\n",
              "      <td>...</td>\n",
              "      <td>...</td>\n",
              "      <td>...</td>\n",
              "      <td>...</td>\n",
              "      <td>...</td>\n",
              "      <td>...</td>\n",
              "      <td>...</td>\n",
              "      <td>...</td>\n",
              "    </tr>\n",
              "    <tr>\n",
              "      <th>987</th>\n",
              "      <td>Первичный рынок жилья</td>\n",
              "      <td>Восточно-Сибирский район</td>\n",
              "      <td>Элитные квартиры</td>\n",
              "      <td>7048.55</td>\n",
              "      <td>7060.77</td>\n",
              "      <td>7307.24</td>\n",
              "      <td>9560.06</td>\n",
              "      <td>9829.22</td>\n",
              "      <td>11753.79</td>\n",
              "      <td>12758.47</td>\n",
              "      <td>...</td>\n",
              "      <td>NaN</td>\n",
              "      <td>NaN</td>\n",
              "      <td>NaN</td>\n",
              "      <td>NaN</td>\n",
              "      <td>NaN</td>\n",
              "      <td>NaN</td>\n",
              "      <td>NaN</td>\n",
              "      <td>NaN</td>\n",
              "      <td>NaN</td>\n",
              "      <td>NaN</td>\n",
              "    </tr>\n",
              "    <tr>\n",
              "      <th>988</th>\n",
              "      <td>Первичный рынок жилья</td>\n",
              "      <td>Дальневосточный район</td>\n",
              "      <td>Все типы квартир</td>\n",
              "      <td>7203.56</td>\n",
              "      <td>7392.97</td>\n",
              "      <td>7434.40</td>\n",
              "      <td>7987.61</td>\n",
              "      <td>10614.19</td>\n",
              "      <td>11180.25</td>\n",
              "      <td>11995.19</td>\n",
              "      <td>...</td>\n",
              "      <td>NaN</td>\n",
              "      <td>NaN</td>\n",
              "      <td>NaN</td>\n",
              "      <td>NaN</td>\n",
              "      <td>NaN</td>\n",
              "      <td>NaN</td>\n",
              "      <td>NaN</td>\n",
              "      <td>NaN</td>\n",
              "      <td>NaN</td>\n",
              "      <td>NaN</td>\n",
              "    </tr>\n",
              "    <tr>\n",
              "      <th>989</th>\n",
              "      <td>Первичный рынок жилья</td>\n",
              "      <td>Дальневосточный район</td>\n",
              "      <td>Квартиры среднего качества (типовые)</td>\n",
              "      <td>5653.88</td>\n",
              "      <td>5653.88</td>\n",
              "      <td>6000.00</td>\n",
              "      <td>6299.25</td>\n",
              "      <td>6591.40</td>\n",
              "      <td>6991.40</td>\n",
              "      <td>6991.40</td>\n",
              "      <td>...</td>\n",
              "      <td>NaN</td>\n",
              "      <td>NaN</td>\n",
              "      <td>NaN</td>\n",
              "      <td>NaN</td>\n",
              "      <td>NaN</td>\n",
              "      <td>NaN</td>\n",
              "      <td>NaN</td>\n",
              "      <td>NaN</td>\n",
              "      <td>NaN</td>\n",
              "      <td>NaN</td>\n",
              "    </tr>\n",
              "    <tr>\n",
              "      <th>990</th>\n",
              "      <td>Первичный рынок жилья</td>\n",
              "      <td>Дальневосточный район</td>\n",
              "      <td>Улучшенного качества</td>\n",
              "      <td>6913.49</td>\n",
              "      <td>7036.90</td>\n",
              "      <td>6954.79</td>\n",
              "      <td>7457.41</td>\n",
              "      <td>9789.78</td>\n",
              "      <td>10418.40</td>\n",
              "      <td>11766.38</td>\n",
              "      <td>...</td>\n",
              "      <td>NaN</td>\n",
              "      <td>NaN</td>\n",
              "      <td>NaN</td>\n",
              "      <td>NaN</td>\n",
              "      <td>NaN</td>\n",
              "      <td>NaN</td>\n",
              "      <td>NaN</td>\n",
              "      <td>NaN</td>\n",
              "      <td>NaN</td>\n",
              "      <td>NaN</td>\n",
              "    </tr>\n",
              "    <tr>\n",
              "      <th>991</th>\n",
              "      <td>Первичный рынок жилья</td>\n",
              "      <td>Дальневосточный район</td>\n",
              "      <td>Элитные квартиры</td>\n",
              "      <td>8508.25</td>\n",
              "      <td>8713.46</td>\n",
              "      <td>9195.18</td>\n",
              "      <td>10468.67</td>\n",
              "      <td>12655.78</td>\n",
              "      <td>13298.65</td>\n",
              "      <td>13456.34</td>\n",
              "      <td>...</td>\n",
              "      <td>NaN</td>\n",
              "      <td>NaN</td>\n",
              "      <td>NaN</td>\n",
              "      <td>NaN</td>\n",
              "      <td>NaN</td>\n",
              "      <td>NaN</td>\n",
              "      <td>NaN</td>\n",
              "      <td>NaN</td>\n",
              "      <td>NaN</td>\n",
              "      <td>NaN</td>\n",
              "    </tr>\n",
              "  </tbody>\n",
              "</table>\n",
              "<p>992 rows × 100 columns</p>\n",
              "</div>\n",
              "    <div class=\"colab-df-buttons\">\n",
              "\n",
              "  <div class=\"colab-df-container\">\n",
              "    <button class=\"colab-df-convert\" onclick=\"convertToInteractive('df-f689f6f2-29da-4deb-9596-7298221cea68')\"\n",
              "            title=\"Convert this dataframe to an interactive table.\"\n",
              "            style=\"display:none;\">\n",
              "\n",
              "  <svg xmlns=\"http://www.w3.org/2000/svg\" height=\"24px\" viewBox=\"0 -960 960 960\">\n",
              "    <path d=\"M120-120v-720h720v720H120Zm60-500h600v-160H180v160Zm220 220h160v-160H400v160Zm0 220h160v-160H400v160ZM180-400h160v-160H180v160Zm440 0h160v-160H620v160ZM180-180h160v-160H180v160Zm440 0h160v-160H620v160Z\"/>\n",
              "  </svg>\n",
              "    </button>\n",
              "\n",
              "  <style>\n",
              "    .colab-df-container {\n",
              "      display:flex;\n",
              "      gap: 12px;\n",
              "    }\n",
              "\n",
              "    .colab-df-convert {\n",
              "      background-color: #E8F0FE;\n",
              "      border: none;\n",
              "      border-radius: 50%;\n",
              "      cursor: pointer;\n",
              "      display: none;\n",
              "      fill: #1967D2;\n",
              "      height: 32px;\n",
              "      padding: 0 0 0 0;\n",
              "      width: 32px;\n",
              "    }\n",
              "\n",
              "    .colab-df-convert:hover {\n",
              "      background-color: #E2EBFA;\n",
              "      box-shadow: 0px 1px 2px rgba(60, 64, 67, 0.3), 0px 1px 3px 1px rgba(60, 64, 67, 0.15);\n",
              "      fill: #174EA6;\n",
              "    }\n",
              "\n",
              "    .colab-df-buttons div {\n",
              "      margin-bottom: 4px;\n",
              "    }\n",
              "\n",
              "    [theme=dark] .colab-df-convert {\n",
              "      background-color: #3B4455;\n",
              "      fill: #D2E3FC;\n",
              "    }\n",
              "\n",
              "    [theme=dark] .colab-df-convert:hover {\n",
              "      background-color: #434B5C;\n",
              "      box-shadow: 0px 1px 3px 1px rgba(0, 0, 0, 0.15);\n",
              "      filter: drop-shadow(0px 1px 2px rgba(0, 0, 0, 0.3));\n",
              "      fill: #FFFFFF;\n",
              "    }\n",
              "  </style>\n",
              "\n",
              "    <script>\n",
              "      const buttonEl =\n",
              "        document.querySelector('#df-f689f6f2-29da-4deb-9596-7298221cea68 button.colab-df-convert');\n",
              "      buttonEl.style.display =\n",
              "        google.colab.kernel.accessAllowed ? 'block' : 'none';\n",
              "\n",
              "      async function convertToInteractive(key) {\n",
              "        const element = document.querySelector('#df-f689f6f2-29da-4deb-9596-7298221cea68');\n",
              "        const dataTable =\n",
              "          await google.colab.kernel.invokeFunction('convertToInteractive',\n",
              "                                                    [key], {});\n",
              "        if (!dataTable) return;\n",
              "\n",
              "        const docLinkHtml = 'Like what you see? Visit the ' +\n",
              "          '<a target=\"_blank\" href=https://colab.research.google.com/notebooks/data_table.ipynb>data table notebook</a>'\n",
              "          + ' to learn more about interactive tables.';\n",
              "        element.innerHTML = '';\n",
              "        dataTable['output_type'] = 'display_data';\n",
              "        await google.colab.output.renderOutput(dataTable, element);\n",
              "        const docLink = document.createElement('div');\n",
              "        docLink.innerHTML = docLinkHtml;\n",
              "        element.appendChild(docLink);\n",
              "      }\n",
              "    </script>\n",
              "  </div>\n",
              "\n",
              "\n",
              "<div id=\"df-5e7253cb-1413-42d5-9905-ff39a78363b2\">\n",
              "  <button class=\"colab-df-quickchart\" onclick=\"quickchart('df-5e7253cb-1413-42d5-9905-ff39a78363b2')\"\n",
              "            title=\"Suggest charts\"\n",
              "            style=\"display:none;\">\n",
              "\n",
              "<svg xmlns=\"http://www.w3.org/2000/svg\" height=\"24px\"viewBox=\"0 0 24 24\"\n",
              "     width=\"24px\">\n",
              "    <g>\n",
              "        <path d=\"M19 3H5c-1.1 0-2 .9-2 2v14c0 1.1.9 2 2 2h14c1.1 0 2-.9 2-2V5c0-1.1-.9-2-2-2zM9 17H7v-7h2v7zm4 0h-2V7h2v10zm4 0h-2v-4h2v4z\"/>\n",
              "    </g>\n",
              "</svg>\n",
              "  </button>\n",
              "\n",
              "<style>\n",
              "  .colab-df-quickchart {\n",
              "      --bg-color: #E8F0FE;\n",
              "      --fill-color: #1967D2;\n",
              "      --hover-bg-color: #E2EBFA;\n",
              "      --hover-fill-color: #174EA6;\n",
              "      --disabled-fill-color: #AAA;\n",
              "      --disabled-bg-color: #DDD;\n",
              "  }\n",
              "\n",
              "  [theme=dark] .colab-df-quickchart {\n",
              "      --bg-color: #3B4455;\n",
              "      --fill-color: #D2E3FC;\n",
              "      --hover-bg-color: #434B5C;\n",
              "      --hover-fill-color: #FFFFFF;\n",
              "      --disabled-bg-color: #3B4455;\n",
              "      --disabled-fill-color: #666;\n",
              "  }\n",
              "\n",
              "  .colab-df-quickchart {\n",
              "    background-color: var(--bg-color);\n",
              "    border: none;\n",
              "    border-radius: 50%;\n",
              "    cursor: pointer;\n",
              "    display: none;\n",
              "    fill: var(--fill-color);\n",
              "    height: 32px;\n",
              "    padding: 0;\n",
              "    width: 32px;\n",
              "  }\n",
              "\n",
              "  .colab-df-quickchart:hover {\n",
              "    background-color: var(--hover-bg-color);\n",
              "    box-shadow: 0 1px 2px rgba(60, 64, 67, 0.3), 0 1px 3px 1px rgba(60, 64, 67, 0.15);\n",
              "    fill: var(--button-hover-fill-color);\n",
              "  }\n",
              "\n",
              "  .colab-df-quickchart-complete:disabled,\n",
              "  .colab-df-quickchart-complete:disabled:hover {\n",
              "    background-color: var(--disabled-bg-color);\n",
              "    fill: var(--disabled-fill-color);\n",
              "    box-shadow: none;\n",
              "  }\n",
              "\n",
              "  .colab-df-spinner {\n",
              "    border: 2px solid var(--fill-color);\n",
              "    border-color: transparent;\n",
              "    border-bottom-color: var(--fill-color);\n",
              "    animation:\n",
              "      spin 1s steps(1) infinite;\n",
              "  }\n",
              "\n",
              "  @keyframes spin {\n",
              "    0% {\n",
              "      border-color: transparent;\n",
              "      border-bottom-color: var(--fill-color);\n",
              "      border-left-color: var(--fill-color);\n",
              "    }\n",
              "    20% {\n",
              "      border-color: transparent;\n",
              "      border-left-color: var(--fill-color);\n",
              "      border-top-color: var(--fill-color);\n",
              "    }\n",
              "    30% {\n",
              "      border-color: transparent;\n",
              "      border-left-color: var(--fill-color);\n",
              "      border-top-color: var(--fill-color);\n",
              "      border-right-color: var(--fill-color);\n",
              "    }\n",
              "    40% {\n",
              "      border-color: transparent;\n",
              "      border-right-color: var(--fill-color);\n",
              "      border-top-color: var(--fill-color);\n",
              "    }\n",
              "    60% {\n",
              "      border-color: transparent;\n",
              "      border-right-color: var(--fill-color);\n",
              "    }\n",
              "    80% {\n",
              "      border-color: transparent;\n",
              "      border-right-color: var(--fill-color);\n",
              "      border-bottom-color: var(--fill-color);\n",
              "    }\n",
              "    90% {\n",
              "      border-color: transparent;\n",
              "      border-bottom-color: var(--fill-color);\n",
              "    }\n",
              "  }\n",
              "</style>\n",
              "\n",
              "  <script>\n",
              "    async function quickchart(key) {\n",
              "      const quickchartButtonEl =\n",
              "        document.querySelector('#' + key + ' button');\n",
              "      quickchartButtonEl.disabled = true;  // To prevent multiple clicks.\n",
              "      quickchartButtonEl.classList.add('colab-df-spinner');\n",
              "      try {\n",
              "        const charts = await google.colab.kernel.invokeFunction(\n",
              "            'suggestCharts', [key], {});\n",
              "      } catch (error) {\n",
              "        console.error('Error during call to suggestCharts:', error);\n",
              "      }\n",
              "      quickchartButtonEl.classList.remove('colab-df-spinner');\n",
              "      quickchartButtonEl.classList.add('colab-df-quickchart-complete');\n",
              "    }\n",
              "    (() => {\n",
              "      let quickchartButtonEl =\n",
              "        document.querySelector('#df-5e7253cb-1413-42d5-9905-ff39a78363b2 button');\n",
              "      quickchartButtonEl.style.display =\n",
              "        google.colab.kernel.accessAllowed ? 'block' : 'none';\n",
              "    })();\n",
              "  </script>\n",
              "</div>\n",
              "    </div>\n",
              "  </div>\n"
            ],
            "application/vnd.google.colaboratory.intrinsic+json": {
              "type": "dataframe",
              "variable_name": "data"
            }
          },
          "metadata": {},
          "execution_count": 336
        }
      ]
    },
    {
      "cell_type": "markdown",
      "source": [
        "Функция для создания кварталов"
      ],
      "metadata": {
        "id": "exYVXDsIlGUO"
      }
    },
    {
      "cell_type": "code",
      "source": [
        "def create_quarter_columns(data, start_year=2000, end_year=2024):\n",
        "  quarters = ['Q1',\t'Q2', 'Q3', 'Q4']\n",
        "  years = range(start_year, end_year + 1)\n",
        "  combined = ['Тип квартиры', 'Территория', 'Тип рынка жилья']\n",
        "\n",
        "  for year in years:\n",
        "    if year == 2024: #если год 2024, то добавить только 1 квартал, т.к данные по 1 квартал 24 года.\n",
        "      combined.append(f\"{year}-Q1\")\n",
        "    else:\n",
        "      for quarter in quarters:\n",
        "            combined.append(f\"{year}-{quarter}\")\n",
        "\n",
        "  data.columns = combined\n",
        "  return data"
      ],
      "metadata": {
        "id": "gotX9Wkxjq5e"
      },
      "execution_count": null,
      "outputs": []
    },
    {
      "cell_type": "markdown",
      "source": [
        "Приведение таблицы к виду, где цена одна колонка"
      ],
      "metadata": {
        "id": "6wn_KRg16LG8"
      }
    },
    {
      "cell_type": "code",
      "source": [
        "def transform_to_price_target(data, id_vars=['Тип рынка жилья', 'Территория', 'Тип квартиры'], var_name='Квартал', value_name='Цена'):\n",
        "  missing_cols = [col for col in id_vars if col not in data.columns]\n",
        "  if missing_cols:\n",
        "    raise ValueError(f\"Отсутствуют необходимые колонки: {', '.join(missing_cols)}\")\n",
        "  data = data.melt(id_vars=id_vars, var_name=var_name, value_name=value_name)\n",
        "  return data"
      ],
      "metadata": {
        "id": "pDPO2ux55eT7"
      },
      "execution_count": null,
      "outputs": []
    },
    {
      "cell_type": "markdown",
      "source": [
        "Замена нулевых значений на Nan"
      ],
      "metadata": {
        "id": "EDlP4N6V96HU"
      }
    },
    {
      "cell_type": "code",
      "source": [
        "def replace_null_into_nan(data, col='Цена'):\n",
        "  if col not in data.columns:\n",
        "    raise ValueError(f\"Отсутствует необходимая колонка: {col}\")\n",
        "\n",
        "  data[col] = data[col].replace(0, np.nan)\n",
        "  return data\n"
      ],
      "metadata": {
        "id": "Y0xD6bPV-T8U"
      },
      "execution_count": null,
      "outputs": []
    },
    {
      "cell_type": "markdown",
      "source": [
        "Приведение таблицы к временному ряду"
      ],
      "metadata": {
        "id": "JR0xAKOr_Inc"
      }
    },
    {
      "cell_type": "code",
      "source": [
        "def to_date(data, col='Квартал', freq='Q', how='end'):\n",
        "  if col not in data.columns:\n",
        "    raise ValueError(f\"Отсутствует необходимая колонка: {col}\")\n",
        "\n",
        "  data[col] = pd.PeriodIndex(data[col], freq=freq).to_timestamp(how=how)\n",
        "  data.set_index(col, inplace=True)\n",
        "  data.index = data.index.normalize()\n",
        "  data = data.sort_index()\n",
        "  return data"
      ],
      "metadata": {
        "id": "DCfIZ1TV_QmO"
      },
      "execution_count": null,
      "outputs": []
    },
    {
      "cell_type": "markdown",
      "source": [
        "Объединение разделенных столбцов в один"
      ],
      "metadata": {
        "id": "QP_nC9YMCPNN"
      }
    },
    {
      "cell_type": "code",
      "source": [
        "def union_columns(data):\n",
        "    type_apartment = data['Тип квартиры'].unique()\n",
        "    type_market = data['Тип рынка жилья'].unique()\n",
        "\n",
        "    for i in type_apartment:#Проходим по всем комбинациям типов квартир и рынка\n",
        "      for j in type_market:\n",
        "        mask_2009 = (data['Территория'] == 'Южный федеральный округ (по 2009 год)') & (data['Тип квартиры'] == i) & (data['Тип рынка жилья'] == j)\n",
        "        mask_2010 = (data['Территория'] == 'Южный федеральный округ (с 2010 года)') & (data['Тип квартиры'] == i) & (data['Тип рынка жилья'] == j)\n",
        "        mask_2016 = (data['Территория'] == 'Южный федеральный округ (с 29.07.2016)') & (data['Тип квартиры'] == i) & (data['Тип рынка жилья'] == j)\n",
        "\n",
        "        sfo_2009 = data[mask_2009]\n",
        "        sfo_2010 = data[mask_2010]\n",
        "        sfo_2016 = data[mask_2016]\n",
        "\n",
        "        combined_data = sfo_2009.combine_first(sfo_2010).combine_first(sfo_2016)#объединяем пропуски соответсвтующими значениями других столбцов\n",
        "\n",
        "        data.loc[mask_2009] = combined_data#записываем все в колонку 2009 года\n",
        "        data = data[~data['Территория'].isin(['Южный федеральный округ (с 2010 года)', 'Южный федеральный округ (с 29.07.2016)'])]#удаляем остальные колонки за ненадобностью\n",
        "        data.rename(columns = {'Южный федеральный округ (по 2009 год)':'Южный федеральный округ'}, inplace = True )#переименуем получившийся столбец\n",
        "\n",
        "        return data"
      ],
      "metadata": {
        "id": "01TS_a__EpNP"
      },
      "execution_count": null,
      "outputs": []
    },
    {
      "cell_type": "markdown",
      "source": [
        "Кодирование категориальных переменных"
      ],
      "metadata": {
        "id": "oKAEz0EHIf3E"
      }
    },
    {
      "cell_type": "code",
      "source": [
        "def one_hot(data, prefix = ['Тип рынка жилья', 'Территория', 'Тип квартиры']):\n",
        "  data=pd.get_dummies(data, prefix=prefix)\n",
        "  data.replace({False:0, True:1}, inplace=True)\n",
        "  #Уберем лишние слова\n",
        "  regex_paterns = '|'.join(f\"{p}_\" for p in prefix)\n",
        "  data.columns = data.columns.str.replace(regex_paterns, '', regex=True).str.strip()\n",
        "  data = data.infer_objects(copy=False)\n",
        "  return data"
      ],
      "metadata": {
        "id": "AmP0XGi6JGi4"
      },
      "execution_count": null,
      "outputs": []
    },
    {
      "cell_type": "markdown",
      "source": [
        "Удаление пропусков в дублированных регионах"
      ],
      "metadata": {
        "id": "NAFrEIVtO6-T"
      }
    },
    {
      "cell_type": "code",
      "source": [
        "def remove_nan_for_region(data, region_column):\n",
        "  df_region_cleaned = data[data[region_column]==1].dropna(subset=['Цена'])\n",
        "  df_other_regions = data[data[region_column]==0]\n",
        "\n",
        "  data = pd.concat([df_other_regions, df_region_cleaned], ignore_index=True)\n",
        "  return data"
      ],
      "metadata": {
        "id": "q6ZxUJg0K2y4"
      },
      "execution_count": null,
      "outputs": []
    },
    {
      "cell_type": "markdown",
      "source": [
        "Функция замены пропусков"
      ],
      "metadata": {
        "id": "eBQyq1X2TBmQ"
      }
    },
    {
      "cell_type": "code",
      "source": [
        "def replace_nan(data, interpolate='linear'):\n",
        "  data['Цена'] = data['Цена'].interpolate(method=interpolate)\n",
        "  return data"
      ],
      "metadata": {
        "id": "bI1LYi7YTEMi"
      },
      "execution_count": null,
      "outputs": []
    },
    {
      "cell_type": "markdown",
      "source": [
        "Функция добавления курса доллара"
      ],
      "metadata": {
        "id": "_93SUrB6U7wA"
      }
    },
    {
      "cell_type": "code",
      "source": [
        "def add_curs_doolar(data, filepath='/content/Курс доллара с 01.01.2000 по 31.01.2024.xlsx'):\n",
        "  dollar = pd.read_excel(filepath)\n",
        "  dollar.index = pd.DatetimeIndex(dollar['data'])\n",
        "  dollar = dollar.drop(['data', 'nominal', 'cdx'], axis=1, errors='ignore')\n",
        "  df_quarterly = dollar['curs'].resample('Q').mean()\n",
        "\n",
        "  data = data.join(df_quarterly, how='left')\n",
        "  return data"
      ],
      "metadata": {
        "id": "UiHOtuWBU-gr"
      },
      "execution_count": null,
      "outputs": []
    },
    {
      "cell_type": "markdown",
      "source": [
        "Реализуем класс, с возможностью применения различных шагов предобработки"
      ],
      "metadata": {
        "id": "5P1BlIlJSnpY"
      }
    },
    {
      "cell_type": "code",
      "source": [
        "class DataPreprocessor:\n",
        "    def __init__(self):\n",
        "        self.steps = []\n",
        "\n",
        "    def add_step(self, function, enabled=True, **kwargs):\n",
        "        self.steps.append({\"function\": function, \"enabled\": enabled, \"kwargs\": kwargs})\n",
        "\n",
        "    def enable_step(self, step_name):\n",
        "        for step in self.steps:\n",
        "            if step[\"function\"].__name__ == step_name:\n",
        "                step[\"enabled\"] = True\n",
        "\n",
        "    def disable_step(self, step_name):\n",
        "        for step in self.steps:\n",
        "            if step[\"function\"].__name__ == step_name:\n",
        "                step[\"enabled\"] = False\n",
        "\n",
        "    def process(self, data):\n",
        "        for step_index, step in enumerate(self.steps):\n",
        "            function = step[\"function\"]\n",
        "            kwargs = step[\"kwargs\"]\n",
        "            enabled = step[\"enabled\"]\n",
        "            step_name = function.__name__\n",
        "\n",
        "            if not enabled:\n",
        "                print(f\"Step {step_index + 1}: {step_name} is disabled, skipping.\")\n",
        "                continue\n",
        "\n",
        "            print(f\"Executing step {step_index + 1}: {step_name} with args: {kwargs}\")\n",
        "            try:\n",
        "                data = function(data, **kwargs)\n",
        "                print(f\"Step {step_index + 1}: {step_name} completed successfully.\")\n",
        "            except Exception as e:\n",
        "                print(f\"Step {step_index + 1}: {step_name} failed with error: {str(e)}\")\n",
        "                raise\n",
        "        return data"
      ],
      "metadata": {
        "id": "Py3yG3RObT4X"
      },
      "execution_count": null,
      "outputs": []
    },
    {
      "cell_type": "code",
      "source": [
        "preprocessor = DataPreprocessor()\n",
        "preprocessor.add_step(create_quarter_columns, start_year=2000, end_year=2024)\n",
        "preprocessor.add_step(transform_to_price_target)\n",
        "preprocessor.add_step(replace_null_into_nan)\n",
        "preprocessor.add_step(to_date)\n",
        "preprocessor.add_step(union_columns)\n",
        "preprocessor.add_step(one_hot)\n",
        "preprocessor.add_step(replace_nan, interpolate='time')\n",
        "preprocessor.add_step(add_curs_doolar)"
      ],
      "metadata": {
        "id": "FJSBM_wySxvs"
      },
      "execution_count": null,
      "outputs": []
    },
    {
      "cell_type": "markdown",
      "source": [
        "Применим все функции предобработки"
      ],
      "metadata": {
        "id": "c97A5-5lbXPT"
      }
    },
    {
      "cell_type": "code",
      "source": [
        "processed_data = preprocessor.process(data)"
      ],
      "metadata": {
        "colab": {
          "base_uri": "https://localhost:8080/"
        },
        "id": "CLIHai48arRg",
        "outputId": "beec1b70-f809-4027-926b-aa664503644a"
      },
      "execution_count": null,
      "outputs": [
        {
          "output_type": "stream",
          "name": "stdout",
          "text": [
            "Executing step 1: create_quarter_columns with args: {'start_year': 2000, 'end_year': 2024}\n",
            "Step 1: create_quarter_columns completed successfully.\n",
            "Executing step 2: transform_to_price_target with args: {}\n",
            "Step 2: transform_to_price_target completed successfully.\n",
            "Executing step 3: replace_null_into_nan with args: {}\n",
            "Step 3: replace_null_into_nan completed successfully.\n",
            "Executing step 4: to_date with args: {}\n",
            "Step 4: to_date completed successfully.\n",
            "Executing step 5: union_columns with args: {}\n",
            "Step 5: union_columns completed successfully.\n",
            "Executing step 6: one_hot with args: {}\n"
          ]
        },
        {
          "output_type": "stream",
          "name": "stderr",
          "text": [
            "<ipython-input-342-75fc11a8bdb5>:3: FutureWarning:\n",
            "\n",
            "Downcasting behavior in `replace` is deprecated and will be removed in a future version. To retain the old behavior, explicitly call `result.infer_objects(copy=False)`. To opt-in to the future behavior, set `pd.set_option('future.no_silent_downcasting', True)`\n",
            "\n"
          ]
        },
        {
          "output_type": "stream",
          "name": "stdout",
          "text": [
            "Step 6: one_hot completed successfully.\n",
            "Executing step 7: replace_nan with args: {'interpolate': 'time'}\n",
            "Step 7: replace_nan completed successfully.\n",
            "Executing step 8: add_curs_doolar with args: {}\n"
          ]
        },
        {
          "output_type": "stream",
          "name": "stderr",
          "text": [
            "/usr/local/lib/python3.11/dist-packages/openpyxl/styles/stylesheet.py:237: UserWarning:\n",
            "\n",
            "Workbook contains no default style, apply openpyxl's default\n",
            "\n"
          ]
        },
        {
          "output_type": "stream",
          "name": "stdout",
          "text": [
            "Step 8: add_curs_doolar completed successfully.\n"
          ]
        },
        {
          "output_type": "stream",
          "name": "stderr",
          "text": [
            "<ipython-input-345-c96f402d9624>:5: FutureWarning:\n",
            "\n",
            "'Q' is deprecated and will be removed in a future version, please use 'QE' instead.\n",
            "\n"
          ]
        }
      ]
    },
    {
      "cell_type": "code",
      "source": [
        "processed_data = processed_data.reset_index()"
      ],
      "metadata": {
        "id": "oOV2N14UMDIm"
      },
      "execution_count": null,
      "outputs": []
    },
    {
      "cell_type": "markdown",
      "source": [
        "Добавим на коленке год и квартал"
      ],
      "metadata": {
        "id": "Rfahr0Z6MSaj"
      }
    },
    {
      "cell_type": "code",
      "source": [
        "processed_data['Год'] = processed_data['index'].dt.year.astype(int)\n",
        "processed_data['Квартал'] = processed_data['index'].dt.quarter.astype(str)"
      ],
      "metadata": {
        "id": "T9b1Th7qMPBB"
      },
      "execution_count": null,
      "outputs": []
    },
    {
      "cell_type": "code",
      "source": [
        "processed_data = processed_data.set_index('index')\n",
        "processed_data = processed_data.sort_index()"
      ],
      "metadata": {
        "id": "TIz6wx7IMrab"
      },
      "execution_count": null,
      "outputs": []
    },
    {
      "cell_type": "markdown",
      "source": [
        "Функции отрисовки графика и метрик, чтобы по сто раз не писать"
      ],
      "metadata": {
        "id": "VdVf1vw6MWkV"
      }
    },
    {
      "cell_type": "code",
      "source": [
        "def draw_plot_show_metrics(*model_data):\n",
        "    fig, axs = plt.subplots(1, len(model_data), figsize=(35, 8))\n",
        "\n",
        "    for i, (pred, model_name) in enumerate(model_data):\n",
        "        axs[i].scatter(X_train.index, y_train, color='blue', label='Training data')\n",
        "        axs[i].scatter(x_test.index, y_test, color='green', label='Test data')\n",
        "        axs[i].scatter(x_test.index, pred, color='red', label='Predictions')\n",
        "\n",
        "        rmse = root_mean_squared_error(y_test, pred)\n",
        "        mae = mean_absolute_error(y_test, pred)\n",
        "        mape = mean_absolute_percentage_error(y_test, pred) * 100\n",
        "\n",
        "        text_metric = f'RMSE={rmse:.4f}\\nMAE={mae:.4f}\\nMAPE={mape:.2f}%'\n",
        "        axs[i].legend(loc='upper left', title=f'{text_metric}')\n",
        "\n",
        "        axs[i].set_title(f'{model_name}', fontsize=16)\n",
        "        axs[i].set_xlabel('Index', fontsize=12)\n",
        "        axs[i].set_ylabel('Values', fontsize=12)"
      ],
      "metadata": {
        "id": "oC41RDVKLa-0"
      },
      "execution_count": null,
      "outputs": []
    },
    {
      "cell_type": "code",
      "source": [
        "%env CLEARML_WEB_HOST=https://app.clear.ml/\n",
        "%env CLEARML_API_HOST=https://api.clear.ml\n",
        "%env CLEARML_FILES_HOST=https://files.clear.ml\n",
        "%env CLEARML_API_ACCESS_KEY=6CVQGE56P0LJC5J7CZ8G0T6J417O2H\n",
        "%env CLEARML_API_SECRET_KEY=MO0jJeXFIcComOMHJoNioJivPhKrwA7BiSLRXdF3Rs4IODMJOwpe339o7zzanLZkJLI"
      ],
      "metadata": {
        "colab": {
          "base_uri": "https://localhost:8080/"
        },
        "id": "sbbtSIOTnnD-",
        "outputId": "3d66f9d8-502a-4f51-9d7c-3fe87f261e03"
      },
      "execution_count": null,
      "outputs": [
        {
          "output_type": "stream",
          "name": "stdout",
          "text": [
            "env: CLEARML_WEB_HOST=https://app.clear.ml/\n",
            "env: CLEARML_API_HOST=https://api.clear.ml\n",
            "env: CLEARML_FILES_HOST=https://files.clear.ml\n",
            "env: CLEARML_API_ACCESS_KEY=6CVQGE56P0LJC5J7CZ8G0T6J417O2H\n",
            "env: CLEARML_API_SECRET_KEY=MO0jJeXFIcComOMHJoNioJivPhKrwA7BiSLRXdF3Rs4IODMJOwpe339o7zzanLZkJLI\n"
          ]
        }
      ]
    },
    {
      "cell_type": "code",
      "source": [
        "task = Task.init(project_name='Forecasting house price', task_name='BaselineExperiment_{preprocessor_name}',  tags=['CatBoost','RandomSearch','DecisionTree'])"
      ],
      "metadata": {
        "id": "SlqNVR47n3CL"
      },
      "execution_count": null,
      "outputs": []
    },
    {
      "cell_type": "markdown",
      "source": [
        "Несколько бейзлайн моделей, попробуем Catboost, randomforest, decision Trees"
      ],
      "metadata": {
        "id": "xElNjGvNMtVd"
      }
    },
    {
      "cell_type": "code",
      "source": [
        "train_size = int(len(processed_data) * 0.7)\n",
        "X, y = processed_data.drop(['Цена'], axis=1), processed_data['Цена']\n",
        "X_train, x_test = X[:train_size], X[train_size:]\n",
        "y_train, y_test = y[:train_size], y[train_size:]\n",
        "y_log_train = np.log1p(y_train)"
      ],
      "metadata": {
        "id": "iRBAyFhTNwsA"
      },
      "execution_count": null,
      "outputs": []
    },
    {
      "cell_type": "markdown",
      "source": [
        "Catboost"
      ],
      "metadata": {
        "id": "NOicFEoCamFt"
      }
    },
    {
      "cell_type": "code",
      "source": [
        "cat = CatBoostRegressor(\n",
        "    iterations=1000,              # Количество деревьев\n",
        "    l2_leaf_reg=5,                # Регуляризация L2\n",
        "    eval_metric='RMSE',           # Метрика для оценки (RMSE для регрессии)\n",
        "    # cat_features=['Тип рынка жилья', 'Территория','Тип квартиры', 'Квартал'],\n",
        "    verbose=100                   # Выводить информацию о процессе обучения\n",
        ")\n",
        "\n",
        "cat.fit(X_train, y_log_train)\n",
        "cat_pred_log = cat.predict(x_test)\n",
        "cat_pred = np.expm1(cat_pred_log)"
      ],
      "metadata": {
        "colab": {
          "base_uri": "https://localhost:8080/"
        },
        "collapsed": true,
        "id": "tflPngA9NxBW",
        "outputId": "d27b8b56-43b9-436b-c601-83db7c35d26d"
      },
      "execution_count": null,
      "outputs": [
        {
          "output_type": "stream",
          "name": "stdout",
          "text": [
            "0:\tlearn: 0.7827254\ttotal: 109ms\tremaining: 1m 48s\n",
            "100:\tlearn: 0.2671689\ttotal: 1.69s\tremaining: 15.1s\n",
            "200:\tlearn: 0.2380593\ttotal: 3.07s\tremaining: 12.2s\n",
            "300:\tlearn: 0.2232575\ttotal: 3.93s\tremaining: 9.12s\n",
            "400:\tlearn: 0.2127576\ttotal: 5.68s\tremaining: 8.49s\n",
            "500:\tlearn: 0.2047076\ttotal: 7.56s\tremaining: 7.53s\n",
            "600:\tlearn: 0.1980026\ttotal: 8.49s\tremaining: 5.64s\n",
            "700:\tlearn: 0.1923325\ttotal: 9.28s\tremaining: 3.96s\n",
            "800:\tlearn: 0.1876047\ttotal: 10.1s\tremaining: 2.51s\n",
            "900:\tlearn: 0.1832824\ttotal: 10.9s\tremaining: 1.2s\n",
            "999:\tlearn: 0.1794175\ttotal: 11.7s\tremaining: 0us\n"
          ]
        }
      ]
    },
    {
      "cell_type": "markdown",
      "source": [
        "DecisionTree"
      ],
      "metadata": {
        "id": "m5oiL4lCanxj"
      }
    },
    {
      "cell_type": "code",
      "source": [
        "clf = tree.DecisionTreeRegressor()\n",
        "clf = clf.fit(X_train, y_log_train)\n",
        "clf_predict = clf.predict(x_test)\n",
        "clf_predict = np.expm1(clf_predict)\n",
        "joblib.dump(clf, 'decision_tree_model.pkl')"
      ],
      "metadata": {
        "id": "Cvyw8gTd3xCG",
        "colab": {
          "base_uri": "https://localhost:8080/"
        },
        "outputId": "3093d7bf-6cbf-4fd2-f49c-160f22b17ad1"
      },
      "execution_count": null,
      "outputs": [
        {
          "output_type": "execute_result",
          "data": {
            "text/plain": [
              "['decision_tree_model.pkl']"
            ]
          },
          "metadata": {},
          "execution_count": 357
        }
      ]
    },
    {
      "cell_type": "markdown",
      "source": [
        "RandomForest"
      ],
      "metadata": {
        "id": "gHgYlTiDaqNs"
      }
    },
    {
      "cell_type": "code",
      "source": [
        "regr = RandomForestRegressor(random_state=0)\n",
        "regr.fit(X_train, y_log_train)\n",
        "regr_predict = regr.predict(x_test)\n",
        "regr_predict = np.expm1(regr_predict)\n",
        "joblib.dump(regr, 'random_forest_model.pkl')"
      ],
      "metadata": {
        "id": "N8PKgz9-4Luf",
        "colab": {
          "base_uri": "https://localhost:8080/"
        },
        "outputId": "0b9cf02c-8754-41b5-9b55-0385a36ca4b0"
      },
      "execution_count": null,
      "outputs": [
        {
          "output_type": "execute_result",
          "data": {
            "text/plain": [
              "['random_forest_model.pkl']"
            ]
          },
          "metadata": {},
          "execution_count": 358
        }
      ]
    },
    {
      "cell_type": "markdown",
      "source": [
        "Рисуем вывод"
      ],
      "metadata": {
        "id": "NiU5-lM_asK7"
      }
    },
    {
      "cell_type": "code",
      "source": [
        "draw_plot_show_metrics(\n",
        "    (cat_pred, 'CatBoost'),\n",
        "    (clf_predict, 'DecisionTree'),\n",
        "    (regr_predict, 'RandomForest')\n",
        ")\n"
      ],
      "metadata": {
        "colab": {
          "base_uri": "https://localhost:8080/",
          "height": 427
        },
        "id": "eSnhU-7eak75",
        "outputId": "8dcff46d-2ce4-484a-9f3c-b23f339852e4"
      },
      "execution_count": null,
      "outputs": [
        {
          "output_type": "display_data",
          "data": {
            "text/plain": [
              "<Figure size 3500x800 with 3 Axes>"
            ],
            "image/png": "[encoded data removed]"
          },
          "metadata": {}
        }
      ]
    },
    {
      "cell_type": "code",
      "source": [],
      "metadata": {
        "id": "klW56SUHatKs"
      },
      "execution_count": null,
      "outputs": []
    }
  ]
}